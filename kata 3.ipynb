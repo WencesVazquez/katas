{
 "cells": [
  {
   "cell_type": "markdown",
   "metadata": {},
   "source": [
    "EJERCICIO 1"
   ]
  },
  {
   "cell_type": "code",
   "execution_count": 1,
   "metadata": {},
   "outputs": [
    {
     "name": "stdout",
     "output_type": "stream",
     "text": [
      "No hay de que preocuparse\n"
     ]
    }
   ],
   "source": [
    "asteroide = 10\n",
    "if asteroide > 25:\n",
    "    print('Precaución, un asteroide viene muy rapido')\n",
    "else:\n",
    "    print('No hay de que preocuparse')"
   ]
  },
  {
   "cell_type": "markdown",
   "metadata": {},
   "source": [
    "EJERCICIO 2"
   ]
  },
  {
   "cell_type": "code",
   "execution_count": 2,
   "metadata": {},
   "outputs": [
    {
     "name": "stdout",
     "output_type": "stream",
     "text": [
      "Se observa una luz en el cielo\n"
     ]
    }
   ],
   "source": [
    "asteroide = 19\n",
    "if asteroide > 18:\n",
    "    print('Se observa una luz en el cielo')\n",
    "elif asteroide == 18:\n",
    "    print('Se observa una luz en el cielo')\n",
    "else:\n",
    "    print('No se observa nada')"
   ]
  },
  {
   "cell_type": "markdown",
   "metadata": {},
   "source": [
    "EJERCICIO 3"
   ]
  },
  {
   "cell_type": "code",
   "execution_count": 3,
   "metadata": {},
   "outputs": [
    {
     "name": "stdout",
     "output_type": "stream",
     "text": [
      "Se observa una luz en el cielo\n"
     ]
    }
   ],
   "source": [
    "velocidad_asteroide = 25\n",
    "tamano_asteroide = 40\n",
    "if velocidad_asteroide > 25 and tamano_asteroide > 25:\n",
    "    print('Un asteroide se acerca a la Tierra')\n",
    "elif velocidad_asteroide >= 20:\n",
    "    print('Se observa una luz en el cielo')\n",
    "elif tamano_asteroide < 25:\n",
    "    print('No se observa nada')\n",
    "else:\n",
    "    print('No se observa nada')"
   ]
  }
 ],
 "metadata": {
  "interpreter": {
   "hash": "eb3816d2bff3711a443b9643aeb503bd34e1b917d8f568ecf7a17400e6f1829e"
  },
  "kernelspec": {
   "display_name": "Python 3.9.7 64-bit",
   "language": "python",
   "name": "python3"
  },
  "language_info": {
   "codemirror_mode": {
    "name": "ipython",
    "version": 3
   },
   "file_extension": ".py",
   "mimetype": "text/x-python",
   "name": "python",
   "nbconvert_exporter": "python",
   "pygments_lexer": "ipython3",
   "version": "3.9.7"
  },
  "orig_nbformat": 4
 },
 "nbformat": 4,
 "nbformat_minor": 2
}
